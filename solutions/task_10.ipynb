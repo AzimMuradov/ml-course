{
 "cells": [
  {
   "cell_type": "markdown",
   "id": "978a2215",
   "metadata": {},
   "source": [
    "# Задача 10. Graph Convolutional Network\n",
    "\n",
    "* **Дедлайн**: до экзамена\n",
    "* Основной полный балл: 5\n",
    "* Максимум баллов: 10\n",
    "\n",
    "\n",
    "## Задача\n",
    "\n",
    "- [x] Найти графовый набор данных для решения задачи предсказания (классификация вершин, обнаружение сообществ и т.д.).\n",
    "- [x] Использовать несколько слоев `GCNConv` из библиотеки `PyG` для построения GCN модели.\n",
    "- [x] Обучить полученную модель, подобрать гиперпараметры (например, learning rate) на валидационной выборке, и оценить качество предсказания на тестовой выборке.\n",
    "- [x] (+5 баллов) Также представить самостоятельную реализацию слоя `GCNConv`, используя матричные операции. Повторить обучение с собственными слоями и сравнить результаты.\n",
    "\n",
    "\n",
    "**Выполнил**: Азим Мурадов\n",
    "\n",
    "**Университет**: СПбГУ\n",
    "\n",
    "**Группа**: 22.Б11-мм"
   ]
  },
  {
   "cell_type": "markdown",
   "id": "c21d1b4c",
   "metadata": {},
   "source": [
    "В качестве датасета будет использован **MUTAG** датасет. Это классический датасет для задач бинарной классификации графов, содержащий информацию о химических соединениях.\n",
    "\n",
    "- **Тип графов**: неориентированные графы молекул\n",
    "- **Вершины**: атомы (без атомов водорода)\n",
    "- **Рёбра**: химические связи между атомами\n",
    "- **Метки графов (классы)**:\n",
    "    - +1 — мутагенное соединение (может вызывать мутации ДНК)\n",
    "    - -1 — не мутагенное\n",
    "- **Кол-во графов**: 188\n",
    "- **Средний кол-во вершин**: \\~17.93 вершин\n",
    "- **Средний кол-во рёбер**: \\~19.79 рёбер\n",
    "\n",
    "**Источник**:\n",
    "\n",
    "- Датасет входит в TUDataset Collection: https://chrsmrrs.github.io/datasets/\n",
    "- Cсылка на архив датасета: https://chrsmrrs.github.io/datasets/MUTAG.zip\n",
    "- Первоначальная публикация:\n",
    "_Debnath et al., “Structure-activity relationship of mutagenic aromatic and heteroaromatic nitro compounds”, Journal of Chemical Information and Computer Sciences, 1991._"
   ]
  },
  {
   "cell_type": "code",
   "execution_count": 1,
   "id": "54133ee7",
   "metadata": {},
   "outputs": [],
   "source": [
    "import torch\n",
    "import torch.nn as nn"
   ]
  },
  {
   "cell_type": "code",
   "execution_count": 2,
   "id": "a9718878",
   "metadata": {},
   "outputs": [
    {
     "name": "stdout",
     "output_type": "stream",
     "text": [
      "MUTAG(188)\n",
      "Data(edge_index=[2, 38], x=[17, 7], edge_attr=[38, 4], y=[1])\n",
      "Number of features: 7, Number of classes: 2\n"
     ]
    },
    {
     "name": "stderr",
     "output_type": "stream",
     "text": [
      "Processing...\n",
      "Done!\n"
     ]
    }
   ],
   "source": [
    "from torch_geometric.datasets import TUDataset\n",
    "from pathlib import Path\n",
    "\n",
    "\n",
    "dataset = TUDataset(root=(Path(\"..\") / \"data\").resolve(), name=\"MUTAG\")\n",
    "print(dataset)\n",
    "print(dataset[0])\n",
    "\n",
    "num_features = dataset.num_features\n",
    "hidden_dim = 32\n",
    "num_classes = dataset.num_classes\n",
    "\n",
    "print(f\"Number of features: {num_features}, Number of classes: {num_classes}\")"
   ]
  },
  {
   "cell_type": "code",
   "execution_count": 3,
   "id": "93e21d6d",
   "metadata": {},
   "outputs": [],
   "source": [
    "from sklearn.model_selection import train_test_split\n",
    "from torch_geometric.loader import DataLoader\n",
    "\n",
    "\n",
    "# Split to train/val/test\n",
    "idx = list(range(len(dataset)))\n",
    "temp_idx, test_idx = train_test_split(idx, test_size=0.2, random_state=42)\n",
    "train_idx, val_idx = train_test_split(temp_idx, test_size=0.2, random_state=42)\n",
    "train_dataset = dataset[train_idx]\n",
    "val_dataset = dataset[val_idx]\n",
    "test_dataset = dataset[test_idx]\n",
    "train_loader = DataLoader(train_dataset, batch_size=32, shuffle=True)\n",
    "val_loader = DataLoader(val_dataset, batch_size=32)\n",
    "test_loader = DataLoader(test_dataset, batch_size=32)\n",
    "\n",
    "device = torch.device(\"cuda\" if torch.cuda.is_available() else \"cpu\")"
   ]
  },
  {
   "cell_type": "markdown",
   "id": "206fd570",
   "metadata": {},
   "source": [
    "## Построим GCN модель"
   ]
  },
  {
   "cell_type": "code",
   "execution_count": 4,
   "id": "58964023",
   "metadata": {},
   "outputs": [],
   "source": [
    "from torch_geometric.nn import global_mean_pool\n",
    "import torch.nn.functional as F\n",
    "\n",
    "\n",
    "class GCN(nn.Module):\n",
    "    def __init__(self, gcn_conv, num_features, hidden_dim, num_classes):\n",
    "        super().__init__()\n",
    "        self.conv1 = gcn_conv(num_features, hidden_dim)\n",
    "        self.conv2 = gcn_conv(hidden_dim, hidden_dim)\n",
    "        self.lin = nn.Linear(hidden_dim, num_classes)\n",
    "\n",
    "    def forward(self, x, edge_index, batch):\n",
    "        x = self.conv1(x, edge_index)\n",
    "        x = F.relu(x)\n",
    "        x = self.conv2(x, edge_index)\n",
    "        x = F.relu(x)\n",
    "        x = global_mean_pool(x, batch)\n",
    "        x = self.lin(x)\n",
    "        return x"
   ]
  },
  {
   "cell_type": "markdown",
   "id": "2b2af488",
   "metadata": {},
   "source": [
    "## Обучим полученную модель используя `GCNConv`, обучение проведем подбирая гиперпараметры. Оценим качество предсказания."
   ]
  },
  {
   "cell_type": "code",
   "execution_count": 5,
   "id": "a1f9cdbb",
   "metadata": {},
   "outputs": [],
   "source": [
    "def train(model, loader, optimizer, device):\n",
    "    model.train()\n",
    "    total_loss = 0\n",
    "    for data in loader:\n",
    "        data = data.to(device)\n",
    "        optimizer.zero_grad()\n",
    "        out = model(data.x.float(), data.edge_index, data.batch)\n",
    "        loss = F.cross_entropy(out, data.y)\n",
    "        loss.backward()\n",
    "        optimizer.step()\n",
    "        total_loss += loss.item() * data.num_graphs\n",
    "    return total_loss / len(loader.dataset)"
   ]
  },
  {
   "cell_type": "code",
   "execution_count": 6,
   "id": "181f233e",
   "metadata": {},
   "outputs": [],
   "source": [
    "def test(model, loader, device):\n",
    "    model.eval()\n",
    "    correct = 0\n",
    "    for data in loader:\n",
    "        data = data.to(device)\n",
    "        out = model(data.x.float(), data.edge_index, data.batch)\n",
    "        pred = out.argmax(dim=1)\n",
    "        correct += int((pred == data.y).sum())\n",
    "    return correct / len(loader.dataset)"
   ]
  },
  {
   "cell_type": "code",
   "execution_count": 7,
   "id": "d01c230e",
   "metadata": {},
   "outputs": [],
   "source": [
    "def grid_search(layer_class, num_features, num_classes, train_loader, val_loader, device):\n",
    "    best_val_acc = 0\n",
    "    best_params = None\n",
    "    best_model_state = None\n",
    "    for hidden_dim in [16, 32, 64]:\n",
    "        for lr in [0.01, 0.005, 0.001]:\n",
    "            model = GCN(layer_class, num_features, hidden_dim, num_classes).to(device)\n",
    "            optimizer = torch.optim.Adam(model.parameters(), lr=lr)\n",
    "            for _ in range(0, 100):\n",
    "                train(model, train_loader, optimizer, device)\n",
    "            val_acc = test(model, val_loader, device)\n",
    "\n",
    "            if val_acc > best_val_acc:\n",
    "                best_val_acc = val_acc\n",
    "                best_params = {\"hidden_dim\": hidden_dim, \"lr\": lr}\n",
    "                best_model_state = model.state_dict()\n",
    "    return best_params, best_val_acc, best_model_state"
   ]
  },
  {
   "cell_type": "code",
   "execution_count": 8,
   "id": "44f06fcc",
   "metadata": {},
   "outputs": [
    {
     "name": "stdout",
     "output_type": "stream",
     "text": [
      "[GCNConv] Grid search:\n",
      "[GCNConv] Best params: {'hidden_dim': 16, 'lr': 0.01}\n",
      "[GCNConv] Validation Accuracy (with best params): 0.6667\n",
      "[GCNConv] Test Accuracy (with best params): 0.8158\n"
     ]
    }
   ],
   "source": [
    "from torch_geometric.nn import GCNConv\n",
    "\n",
    "\n",
    "print(\"[GCNConv] Grid search:\")\n",
    "best_params, best_val_acc, best_model_state = grid_search(\n",
    "    GCNConv, num_features, num_classes, train_loader, val_loader, device\n",
    ")\n",
    "\n",
    "print(f\"[GCNConv] Best params: {best_params}\")\n",
    "print(f\"[GCNConv] Validation Accuracy (with best params): {best_val_acc:.4f}\")\n",
    "model = GCN(GCNConv, num_features, best_params[\"hidden_dim\"], num_classes).to(device)\n",
    "model.load_state_dict(best_model_state)\n",
    "\n",
    "gcn_conv_test_acc = test(model, test_loader, device)\n",
    "print(f\"[GCNConv] Test Accuracy (with best params): {gcn_conv_test_acc:.4f}\")"
   ]
  },
  {
   "cell_type": "markdown",
   "id": "9b13742b",
   "metadata": {},
   "source": [
    "## Представим самостоятельную реализацию слоя `GCNConv`, используя матричные операции."
   ]
  },
  {
   "cell_type": "code",
   "execution_count": 9,
   "id": "3a9db58c",
   "metadata": {},
   "outputs": [],
   "source": [
    "class MyGCNConv(nn.Module):\n",
    "    def __init__(self, in_features, out_features):\n",
    "        super().__init__()\n",
    "        self.linear = nn.Linear(in_features, out_features)\n",
    "\n",
    "    def forward(self, x, edge_index):\n",
    "        num_nodes = x.size(0)\n",
    "        edge_index = edge_index\n",
    "        adj = torch.zeros((num_nodes, num_nodes), device=x.device)\n",
    "        adj[edge_index[0], edge_index[1]] = 1\n",
    "        adj = adj + torch.eye(num_nodes, device=x.device)\n",
    "        deg = adj.sum(dim=1)\n",
    "        deg_inv_sqrt = deg.pow(-0.5)\n",
    "        deg_inv_sqrt[deg_inv_sqrt == float(\"inf\")] = 0\n",
    "        norm_adj = deg_inv_sqrt.unsqueeze(1) * adj * deg_inv_sqrt.unsqueeze(0)\n",
    "        x = self.linear(x)\n",
    "        x = norm_adj @ x\n",
    "        return x"
   ]
  },
  {
   "cell_type": "markdown",
   "id": "bc73df73",
   "metadata": {},
   "source": [
    "## Обучим полученную модель используя `MyGCNConv`, обучение проведем подбирая гиперпараметры. Оценим качество предсказания."
   ]
  },
  {
   "cell_type": "code",
   "execution_count": 10,
   "id": "65556ba8",
   "metadata": {},
   "outputs": [
    {
     "name": "stdout",
     "output_type": "stream",
     "text": [
      "[MyGCNConv] Grid search:\n",
      "[MyGCNConv] Best params: {'hidden_dim': 16, 'lr': 0.01}\n",
      "[MyGCNConv] Validation Accuracy (with best params): 0.6667\n",
      "[MyGCNConv] Test Accuracy (with best params): 0.8158\n"
     ]
    }
   ],
   "source": [
    "print(\"[MyGCNConv] Grid search:\")\n",
    "best_params, best_val_acc, best_model_state = grid_search(\n",
    "    MyGCNConv, num_features, num_classes, train_loader, val_loader, device\n",
    ")\n",
    "\n",
    "print(f\"[MyGCNConv] Best params: {best_params}\")\n",
    "print(f\"[MyGCNConv] Validation Accuracy (with best params): {best_val_acc:.4f}\")\n",
    "model = GCN(MyGCNConv, num_features, best_params[\"hidden_dim\"], num_classes).to(device)\n",
    "model.load_state_dict(best_model_state)\n",
    "\n",
    "my_gcn_conv_test_acc = test(model, test_loader, device)\n",
    "print(f\"[MyGCNConv] Test Accuracy (with best params): {my_gcn_conv_test_acc:.4f}\")"
   ]
  },
  {
   "cell_type": "code",
   "execution_count": 11,
   "id": "35a9fec9",
   "metadata": {},
   "outputs": [
    {
     "name": "stdout",
     "output_type": "stream",
     "text": [
      "[GCNConv] Test Accuracy: 0.8158\n",
      "[MyGCNConv] Test Accuracy: 0.8158\n"
     ]
    }
   ],
   "source": [
    "print(f\"[GCNConv] Test Accuracy: {gcn_conv_test_acc:.4f}\")\n",
    "print(f\"[MyGCNConv] Test Accuracy: {my_gcn_conv_test_acc:.4f}\")"
   ]
  }
 ],
 "metadata": {
  "kernelspec": {
   "display_name": ".venv",
   "language": "python",
   "name": "python3"
  },
  "language_info": {
   "codemirror_mode": {
    "name": "ipython",
    "version": 3
   },
   "file_extension": ".py",
   "mimetype": "text/x-python",
   "name": "python",
   "nbconvert_exporter": "python",
   "pygments_lexer": "ipython3",
   "version": "3.12.6"
  }
 },
 "nbformat": 4,
 "nbformat_minor": 5
}
