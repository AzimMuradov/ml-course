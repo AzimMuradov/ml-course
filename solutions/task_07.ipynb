{
 "cells": [
  {
   "cell_type": "markdown",
   "id": "36e8bb7b",
   "metadata": {},
   "source": [
    "# Задача 7. Нейронные сети\n",
    "\n",
    "* **Дедлайн**: 28.03.2025, 23:59\n",
    "* **Основной полный балл**: 5\n",
    "* **Максимум баллов**: 10\n",
    "\n",
    "## Задача\n",
    "\n",
    "- [x] Найти данные в виде изображений для задачи классификации. Например, можно взять данные [отсюда](http://ufldl.stanford.edu/housenumbers/).\n",
    "- [x] Реализовать классы, необходимые для построения сети со следующими слоями\n",
    "\t- FullyConnectedLayer\n",
    "\t- ReluLayer\n",
    "\t- FullyConnectedLayer\n",
    "- [x] Использовать CrossEntropyLoss и L2-регуляризацию.\n",
    "- [x] Обучить модель на тренировочных данных, подбирать параметры (особенно learning rate) на валидационной и оценить качество на тестовой. Анализировать графики train/val loss, проверять на каждом шаге корректность вычисления градиентов с помощью разностной оценки.\n",
    "- [ ] * (**+2 балла**) Добавить Batch normalization.\n",
    "- [ ] * (**+2 балла**) В качестве оптимизатор использовать один из: Momentum, RMSprop.\n",
    "- [ ] * (**+1 балл**) Также реализовать оптимизатор Adam.\n",
    "\n",
    "\n",
    "**Выполнил**: Азим Мурадов\n",
    "\n",
    "**Университет**: СПбГУ\n",
    "\n",
    "**Группа**: 22.Б11-мм"
   ]
  },
  {
   "cell_type": "markdown",
   "id": "3957a9fd",
   "metadata": {},
   "source": [
    "В качестве датасета будет использован **MNIST_784** - база данных рукописных цифр MNIST с 784 признаками.\n",
    "\n",
    "**Источник**: https://www.openml.org/search?type=data&sort=nr_of_likes&status=active&id=554"
   ]
  },
  {
   "cell_type": "code",
   "execution_count": 1,
   "id": "7110ec8d",
   "metadata": {},
   "outputs": [],
   "source": [
    "import numpy as np\n",
    "from sklearn.datasets import fetch_openml\n",
    "from sklearn.model_selection import train_test_split\n",
    "import matplotlib.pyplot as plt\n",
    "\n",
    "\n",
    "def load_mnist_data():\n",
    "    X, y = fetch_openml('mnist_784', version=1, return_X_y=True, as_frame=False)\n",
    "\n",
    "    X = X.astype(np.float32) / 255.0\n",
    "    y = y.astype(np.int64)\n",
    "\n",
    "    # train/val/test split\n",
    "    X_train, X_temp, y_train, y_temp = train_test_split(X, y, test_size=0.2, random_state=42)\n",
    "    X_val, X_test, y_val, y_test = train_test_split(X_temp, y_temp, test_size=0.5, random_state=42)\n",
    "\n",
    "    return X_train, y_train, X_val, y_val, X_test, y_test"
   ]
  },
  {
   "cell_type": "markdown",
   "id": "6a208174",
   "metadata": {},
   "source": [
    "## Реализуем классы, необходимые для построения сети"
   ]
  },
  {
   "cell_type": "code",
   "execution_count": 2,
   "id": "f00de4d1",
   "metadata": {},
   "outputs": [],
   "source": [
    "class FullyConnectedLayer:\n",
    "    def __init__(self, in_features, out_features):\n",
    "        self.w = np.random.randn(in_features, out_features) * 0.01\n",
    "        self.b = np.zeros(out_features)\n",
    "        self.dw = None\n",
    "        self.db = None\n",
    "        self.x = None\n",
    "\n",
    "    def forward(self, x):\n",
    "        self.x = x\n",
    "        return x @ self.w + self.b\n",
    "\n",
    "    def backward(self, grad_output):\n",
    "        self.dw = self.x.T @ grad_output\n",
    "        self.db = np.sum(grad_output, axis=0)\n",
    "        grad_input = grad_output @ self.w.T\n",
    "        return grad_input\n",
    "\n",
    "    def step(self, lr, l2_reg=0.0):\n",
    "        self.w -= lr * (self.dw + l2_reg * self.w)\n",
    "        self.b -= lr * self.db"
   ]
  },
  {
   "cell_type": "code",
   "execution_count": 3,
   "id": "8763b08d",
   "metadata": {},
   "outputs": [],
   "source": [
    "class ReluLayer:\n",
    "    def __init__(self):\n",
    "        self.mask = None\n",
    "\n",
    "    def forward(self, x):\n",
    "        self.mask = (x > 0)\n",
    "        return x * self.mask\n",
    "\n",
    "    def backward(self, grad_output):\n",
    "        return grad_output * self.mask\n",
    "\n",
    "    def step(self, _lr, _l2_reg):\n",
    "        # No parameters to update in ReLU layer\n",
    "        pass"
   ]
  },
  {
   "cell_type": "code",
   "execution_count": 4,
   "id": "c0e55e5b",
   "metadata": {},
   "outputs": [],
   "source": [
    "class Net:\n",
    "    def __init__(self, input_dim, hidden_dim, output_dim):\n",
    "        self.layers = [\n",
    "            FullyConnectedLayer(input_dim, hidden_dim),\n",
    "            ReluLayer(),\n",
    "            FullyConnectedLayer(hidden_dim, output_dim),\n",
    "        ]\n",
    "\n",
    "    def forward(self, x):\n",
    "        for layer in self.layers:\n",
    "            x = layer.forward(x)\n",
    "        return x\n",
    "\n",
    "    def backward(self, grad):\n",
    "        for layer in reversed(self.layers):\n",
    "            grad = layer.backward(grad)\n",
    "        return grad\n",
    "\n",
    "    def step(self, lr, l2_reg=0.0):\n",
    "        for layer in self.layers:\n",
    "            layer.step(lr, l2_reg)"
   ]
  },
  {
   "cell_type": "code",
   "execution_count": 5,
   "id": "fca4e102",
   "metadata": {},
   "outputs": [],
   "source": [
    "class CrossEntropyLoss:\n",
    "    def __init__(self):\n",
    "        self.logits = None\n",
    "        self.labels = None\n",
    "\n",
    "    def forward(self, logits, labels):\n",
    "        self.logits = logits\n",
    "        self.labels = labels\n",
    "        # logits: [batch, num_classes], labels: [batch]\n",
    "        logits_stable = logits - np.max(logits, axis=1, keepdims=True)\n",
    "        exp_logits = np.exp(logits_stable)\n",
    "        probs = exp_logits / np.sum(exp_logits, axis=1, keepdims=True)\n",
    "        self.probs = probs\n",
    "        N = logits.shape[0]\n",
    "        loss = -np.log(probs[np.arange(N), labels] + 1e-9).mean()\n",
    "        return loss\n",
    "\n",
    "    def backward(self):\n",
    "        N = self.logits.shape[0]\n",
    "        grad = self.probs.copy()\n",
    "        grad[np.arange(N), self.labels] -= 1\n",
    "        grad = grad / N\n",
    "        return grad"
   ]
  },
  {
   "cell_type": "code",
   "execution_count": 6,
   "id": "ed5ce995",
   "metadata": {},
   "outputs": [],
   "source": [
    "X_train, y_train, X_val, y_val, X_test, y_test = load_mnist_data()\n",
    "\n",
    "input_dim = X_train.shape[1]\n",
    "hidden_dim = 128\n",
    "output_dim = 10"
   ]
  },
  {
   "cell_type": "markdown",
   "id": "550697d9",
   "metadata": {},
   "source": [
    "## Проверим корректность вычисления градиентов с помощью разностной оценки"
   ]
  },
  {
   "cell_type": "code",
   "execution_count": 7,
   "id": "38075602",
   "metadata": {},
   "outputs": [],
   "source": [
    "def grad_check_full(model: Net, loss_fn, X, y, eps=1e-5, tol=1e-4):\n",
    "    logits = model.forward(X)\n",
    "    loss_fn.forward(logits, y)\n",
    "    grad = loss_fn.backward()\n",
    "    model.backward(grad)\n",
    "\n",
    "    fc1, _, fc2 = model.layers\n",
    "\n",
    "    params = [fc1.w, fc1.b, fc2.w, fc2.b]\n",
    "    grads = [fc1.dw, fc1.db, fc2.dw, fc2.db]\n",
    "    names = [\"fc1.w\", \"fc1.b\", \"fc2.w\", \"fc2.b\"]\n",
    "\n",
    "    for param, grad_analytical, name in zip(params, grads, names):\n",
    "        num_grad = np.zeros_like(param)\n",
    "        it = np.nditer(param, flags=['multi_index'], op_flags=['readwrite'])\n",
    "        while not it.finished:\n",
    "            idx = it.multi_index\n",
    "            orig = param[idx]\n",
    "            param[idx] = orig + eps\n",
    "            plus = loss_fn.forward(model.forward(X), y)\n",
    "            param[idx] = orig - eps\n",
    "            minus = loss_fn.forward(model.forward(X), y)\n",
    "            param[idx] = orig\n",
    "            num_grad[idx] = (plus - minus) / (2 * eps)\n",
    "            it.iternext()\n",
    "\n",
    "        rel_error = np.abs(grad_analytical - num_grad) / (np.abs(grad_analytical) + np.abs(num_grad) + 1e-8)\n",
    "        max_error = np.max(rel_error)\n",
    "\n",
    "        print(f\"Max relative error for {name}: {max_error:.2e}\")\n",
    "        if max_error < tol:\n",
    "            print(f\"Gradient check for {name} passed!\")\n",
    "        else:\n",
    "            print(f\"Gradient check for {name} failed!\")"
   ]
  },
  {
   "cell_type": "code",
   "execution_count": 8,
   "id": "5f2fe6fb",
   "metadata": {},
   "outputs": [
    {
     "name": "stdout",
     "output_type": "stream",
     "text": [
      "Max relative error for fc1.w: 5.25e-05\n",
      "Gradient check for fc1.w passed!\n",
      "Max relative error for fc1.b: 5.27e-08\n",
      "Gradient check for fc1.b passed!\n",
      "Max relative error for fc2.w: 4.83e-08\n",
      "Gradient check for fc2.w passed!\n",
      "Max relative error for fc2.b: 5.10e-09\n",
      "Gradient check for fc2.b passed!\n"
     ]
    }
   ],
   "source": [
    "np.random.seed(42)\n",
    "model_check = Net(input_dim, hidden_dim, output_dim)\n",
    "loss_fn_check = CrossEntropyLoss()\n",
    "grad_check_full(model_check, loss_fn_check, X_train[:5], y_train[:5])"
   ]
  },
  {
   "cell_type": "markdown",
   "id": "22375658",
   "metadata": {},
   "source": [
    "## Обучим модель на тренировочных данных, подберём параметры и проанализируем результаты"
   ]
  },
  {
   "cell_type": "code",
   "execution_count": 9,
   "id": "ee10c1b4",
   "metadata": {},
   "outputs": [],
   "source": [
    "def accuracy(logits, labels):\n",
    "    preds = np.argmax(logits, axis=1)\n",
    "    return np.mean(preds == labels)"
   ]
  },
  {
   "cell_type": "code",
   "execution_count": 10,
   "id": "f5b55de1",
   "metadata": {},
   "outputs": [],
   "source": [
    "def train(\n",
    "    model,\n",
    "    loss_fn,\n",
    "    X_train, y_train, X_val, y_val,\n",
    "    epochs=10, batch_size=128, lr=1e-2, l2_reg=0.0,\n",
    "):\n",
    "    n_train = X_train.shape[0]\n",
    "    history = {'train_loss': [], 'val_loss': [], 'train_acc': [], 'val_acc': []}\n",
    "\n",
    "    for _ in range(epochs):\n",
    "        # Shuffle\n",
    "        idx = np.random.permutation(n_train)\n",
    "        X_train, y_train = X_train[idx], y_train[idx]\n",
    "\n",
    "        # Use batches\n",
    "        for i in range(0, n_train, batch_size):\n",
    "            xb = X_train[i:i+batch_size]\n",
    "            yb = y_train[i:i+batch_size]\n",
    "            logits = model.forward(xb)\n",
    "            loss_fn.forward(logits, yb)\n",
    "            grad = loss_fn.backward()\n",
    "            model.backward(grad)\n",
    "            model.step(lr, l2_reg)\n",
    "\n",
    "        # Metrics\n",
    "        fc1, _, fc2 = model.layers\n",
    "\n",
    "        train_logits = model.forward(X_train)\n",
    "        val_logits = model.forward(X_val)\n",
    "\n",
    "        train_loss = loss_fn.forward(train_logits, y_train)\n",
    "        val_loss = loss_fn.forward(val_logits, y_val)\n",
    "        l2_loss_train = 0.5 * l2_reg * (np.sum(fc1.w ** 2) + np.sum(fc2.w ** 2))\n",
    "        l2_loss_val = 0.5 * l2_reg * (np.sum(fc1.w ** 2) + np.sum(fc2.w ** 2))\n",
    "        total_train_loss = train_loss + l2_loss_train\n",
    "        total_val_loss = val_loss + l2_loss_val\n",
    "\n",
    "        train_acc = accuracy(train_logits, y_train)\n",
    "        val_acc = accuracy(val_logits, y_val)\n",
    "\n",
    "        history['train_loss'].append(total_train_loss)\n",
    "        history['val_loss'].append(total_val_loss)\n",
    "        history['train_acc'].append(train_acc)\n",
    "        history['val_acc'].append(val_acc)\n",
    "\n",
    "    return history"
   ]
  },
  {
   "cell_type": "code",
   "execution_count": 11,
   "id": "ec5ee2a6",
   "metadata": {},
   "outputs": [],
   "source": [
    "def grid_search(X_train, y_train, X_val, y_val, input_dim, hidden_dim, output_dim, lr_list, l2_list, epochs=10, batch_size=128):\n",
    "    results = []\n",
    "    for lr in lr_list:\n",
    "        for l2_reg in l2_list:\n",
    "            model = Net(input_dim, hidden_dim, output_dim)\n",
    "            loss_fn = CrossEntropyLoss()\n",
    "            history = train(\n",
    "                model, loss_fn,\n",
    "                X_train, y_train, X_val, y_val,\n",
    "                epochs=epochs, batch_size=batch_size, lr=lr, l2_reg=l2_reg\n",
    "            )\n",
    "            best_val_acc = max(history['val_acc'])\n",
    "            results.append({'lr': lr, 'l2_reg': l2_reg, 'val_acc': best_val_acc})\n",
    "    return results"
   ]
  },
  {
   "cell_type": "code",
   "execution_count": 12,
   "id": "cf225b3f",
   "metadata": {},
   "outputs": [
    {
     "name": "stdout",
     "output_type": "stream",
     "text": [
      "\n",
      "Grid search results (sorted):\n",
      "lr=0.01, l2_reg=0.001, val_acc=0.9153\n",
      "lr=0.01, l2_reg=0.0001, val_acc=0.9147\n",
      "lr=0.01, l2_reg=0.0, val_acc=0.9139\n",
      "lr=0.005, l2_reg=0.001, val_acc=0.8974\n",
      "lr=0.005, l2_reg=0.0, val_acc=0.8970\n",
      "lr=0.005, l2_reg=0.0001, val_acc=0.8966\n",
      "lr=0.001, l2_reg=0.0001, val_acc=0.7644\n",
      "lr=0.001, l2_reg=0.0, val_acc=0.7613\n",
      "lr=0.001, l2_reg=0.001, val_acc=0.7584\n"
     ]
    }
   ],
   "source": [
    "lr_list = [0.001, 0.005, 0.01]\n",
    "l2_list = [0.0, 1e-4, 1e-3]\n",
    "\n",
    "results = grid_search(\n",
    "    X_train, y_train, X_val, y_val,\n",
    "    input_dim, hidden_dim, output_dim,\n",
    "    lr_list, l2_list,\n",
    "    epochs=20, batch_size=128,\n",
    ")\n",
    "\n",
    "results.sort(key=lambda x: x['val_acc'], reverse=True)\n",
    "print(\"\\nGrid search results (sorted):\")\n",
    "for res in results:\n",
    "    print(f\"lr={res['lr']}, l2_reg={res['l2_reg']}, val_acc={res['val_acc']:.4f}\")"
   ]
  },
  {
   "cell_type": "markdown",
   "id": "1b5c7873",
   "metadata": {},
   "source": [
    "Выберем lr = 0.01 и l2_reg = 0.0. l2_reg не сильно повлиял на результат, поэтому выгоднее его прировнять к нулю."
   ]
  },
  {
   "cell_type": "code",
   "execution_count": 13,
   "id": "881e5c77",
   "metadata": {},
   "outputs": [
    {
     "data": {
      "image/png": "[encoded data removed]",
      "text/plain": [
       "<Figure size 1200x500 with 2 Axes>"
      ]
     },
     "metadata": {},
     "output_type": "display_data"
    }
   ],
   "source": [
    "model = Net(input_dim, hidden_dim, output_dim)\n",
    "loss_fn = CrossEntropyLoss()\n",
    "\n",
    "history = train(\n",
    "    model,\n",
    "    loss_fn,\n",
    "    X_train, y_train, X_val, y_val,\n",
    "    epochs=20, batch_size=128, lr=0.01, l2_reg=0.0,\n",
    ")\n",
    "\n",
    "plt.figure(figsize=(12,5))\n",
    "plt.subplot(1,2,1)\n",
    "plt.plot(history['train_loss'], label='train_loss')\n",
    "plt.plot(history['val_loss'], label='val_loss')\n",
    "plt.legend()\n",
    "plt.title('Loss')\n",
    "plt.subplot(1,2,2)\n",
    "plt.plot(history['train_acc'], label='train_acc')\n",
    "plt.plot(history['val_acc'], label='val_acc')\n",
    "plt.legend()\n",
    "plt.title('Accuracy')\n",
    "plt.show()"
   ]
  },
  {
   "cell_type": "markdown",
   "id": "e228d394",
   "metadata": {},
   "source": [
    "Присутствует незначительное (не критичное) переобучение. В остальном, графики соответствуют качественному обучению."
   ]
  },
  {
   "cell_type": "code",
   "execution_count": 14,
   "id": "d58ff8b4",
   "metadata": {},
   "outputs": [
    {
     "name": "stdout",
     "output_type": "stream",
     "text": [
      "Test accuracy: 0.9239\n"
     ]
    }
   ],
   "source": [
    "test_logits = model.forward(X_test)\n",
    "test_acc = accuracy(test_logits, y_test)\n",
    "\n",
    "print(f\"Test accuracy: {test_acc:.4f}\")"
   ]
  }
 ],
 "metadata": {
  "kernelspec": {
   "display_name": ".venv",
   "language": "python",
   "name": "python3"
  },
  "language_info": {
   "codemirror_mode": {
    "name": "ipython",
    "version": 3
   },
   "file_extension": ".py",
   "mimetype": "text/x-python",
   "name": "python",
   "nbconvert_exporter": "python",
   "pygments_lexer": "ipython3",
   "version": "3.12.6"
  }
 },
 "nbformat": 4,
 "nbformat_minor": 5
}
